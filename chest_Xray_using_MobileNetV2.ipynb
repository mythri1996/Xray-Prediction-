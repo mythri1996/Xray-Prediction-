{
  "nbformat": 4,
  "nbformat_minor": 0,
  "metadata": {
    "colab": {
      "name": "chest Xray using MobileNetV2.ipynb",
      "provenance": [],
      "collapsed_sections": []
    },
    "kernelspec": {
      "name": "python3",
      "display_name": "Python 3"
    },
    "accelerator": "GPU"
  },
  "cells": [
    {
      "cell_type": "code",
      "metadata": {
        "id": "D7FF1VZIwAJ4"
      },
      "source": [
        "cd drive/MyDrive/deeplearningprojects/xray(CNN)/"
      ],
      "execution_count": null,
      "outputs": []
    },
    {
      "cell_type": "code",
      "metadata": {
        "id": "D-0_63EoLkgq"
      },
      "source": [
        "ls"
      ],
      "execution_count": null,
      "outputs": []
    },
    {
      "cell_type": "code",
      "metadata": {
        "id": "lk1OeNf1wWdx"
      },
      "source": [
        "import zipfile\n",
        "import os\n",
        "import cv2\n",
        "from keras.models import load_model\n",
        "import numpy\n",
        "import matplotlib.pyplot as plt\n",
        "import pandas as pd\n",
        "from tensorflow.keras.preprocessing.image import ImageDataGenerator\n",
        "from tensorflow.keras.applications import MobileNetV2\n",
        "from keras.models import Model\n",
        "from tensorflow.keras.layers import Conv2D, BatchNormalization, Dropout, Dense, GlobalAveragePooling2D\n",
        "from tensorflow.keras.models import Model, load_model, Sequential\n",
        "from tensorflow.keras.optimizers import RMSprop, Adam,SGD\n",
        "from tensorflow.keras.callbacks import ModelCheckpoint,EarlyStopping,ReduceLROnPlateau\n",
        "\n",
        "\n",
        "\n",
        "\n"
      ],
      "execution_count": null,
      "outputs": []
    },
    {
      "cell_type": "markdown",
      "metadata": {
        "id": "ki3T4Xfv4y7_"
      },
      "source": [
        "Extracting Zipfile"
      ]
    },
    {
      "cell_type": "code",
      "metadata": {
        "id": "DBEb0SJww9dV"
      },
      "source": [
        "#with zipfile.ZipFile(\"/content/drive/MyDrive/deeplearningprojects/xray(CNN)/xray.zip\")as file:\n",
        "  #file.extractall(\"\")"
      ],
      "execution_count": null,
      "outputs": []
    },
    {
      "cell_type": "markdown",
      "metadata": {
        "id": "1j37RFX-IXS4"
      },
      "source": [
        "Listing Directories"
      ]
    },
    {
      "cell_type": "code",
      "metadata": {
        "id": "EgU_o-qUyoXg"
      },
      "source": [
        "train_path=os.listdir(\"/content/drive/MyDrive/deeplearningprojects/xray(CNN)/chest_xray/train/\")\n",
        "normal_data=os.listdir(\"/content/drive/MyDrive/deeplearningprojects/xray(CNN)/chest_xray/train/NORMAL/\")\n",
        "pneumonia_data=os.listdir(\"/content/drive/MyDrive/deeplearningprojects/xray(CNN)/chest_xray/train/PNEUMONIA/\")"
      ],
      "execution_count": null,
      "outputs": []
    },
    {
      "cell_type": "code",
      "metadata": {
        "colab": {
          "base_uri": "https://localhost:8080/"
        },
        "id": "xau5rHhKzBtW",
        "outputId": "4cc79fd2-6410-4976-cc6f-cc40d12566ce"
      },
      "source": [
        "print(len(normal_data))\n",
        "print(len(pneumonia_data))"
      ],
      "execution_count": null,
      "outputs": [
        {
          "output_type": "stream",
          "text": [
            "1342\n",
            "3876\n"
          ],
          "name": "stdout"
        }
      ]
    },
    {
      "cell_type": "markdown",
      "metadata": {
        "id": "IQA67HBF5ERt"
      },
      "source": [
        "observation data points are imbalanced"
      ]
    },
    {
      "cell_type": "code",
      "metadata": {
        "id": "L2Z9Vdbq5Avg"
      },
      "source": [
        "train_data_dir = '/content/drive/MyDrive/deeplearningprojects/xray(CNN)/chest_xray/train'\n",
        "validation_data_dir = '/content/drive/MyDrive/deeplearningprojects/xray(CNN)/chest_xray/val/'\n",
        "test_data_dir=\"/content/drive/MyDrive/deeplearningprojects/xray(CNN)/chest_xray/test/\""
      ],
      "execution_count": null,
      "outputs": []
    },
    {
      "cell_type": "code",
      "metadata": {
        "id": "ej3ziKg4jZ0A"
      },
      "source": [
        "batch_size = 16"
      ],
      "execution_count": null,
      "outputs": []
    },
    {
      "cell_type": "markdown",
      "metadata": {
        "id": "XW5leO0h5uXr"
      },
      "source": [
        "Preparing Input Data"
      ]
    },
    {
      "cell_type": "code",
      "metadata": {
        "id": "7jhFVgyzjaAG"
      },
      "source": [
        "train_datagen = ImageDataGenerator(rescale=1./255,\n",
        "                                   horizontal_flip=True,\n",
        "                                   validation_split = 0.1)\n",
        "test_datagen = ImageDataGenerator(rescale= 1./255)"
      ],
      "execution_count": null,
      "outputs": []
    },
    {
      "cell_type": "code",
      "metadata": {
        "colab": {
          "base_uri": "https://localhost:8080/"
        },
        "id": "f3olqIBsjaJj",
        "outputId": "e3c01a30-c5c5-4fbe-d33b-447702848e25"
      },
      "source": [
        "\n",
        "train_dataset = train_datagen.flow_from_directory(\n",
        "              train_data_dir,\n",
        "                target_size = (224,224),\n",
        "                class_mode = 'categorical',\n",
        "                batch_size = batch_size,\n",
        "                shuffle = True\n",
        "                )\n",
        "\n",
        "validation_dataset = train_datagen.flow_from_directory(\n",
        "                validation_data_dir,\n",
        "                target_size = (224,224),\n",
        "                class_mode = 'categorical',\n",
        "                batch_size = batch_size,\n",
        "                shuffle = True\n",
        "                )\n",
        "\n",
        "test_dataset = test_datagen.flow_from_directory(\n",
        "               test_data_dir,\n",
        "                target_size = (224,224),\n",
        "                class_mode = 'categorical',\n",
        "                batch_size = batch_size,\n",
        "                shuffle = True\n",
        "                )"
      ],
      "execution_count": null,
      "outputs": [
        {
          "output_type": "stream",
          "text": [
            "Found 5216 images belonging to 2 classes.\n",
            "Found 16 images belonging to 2 classes.\n",
            "Found 624 images belonging to 2 classes.\n"
          ],
          "name": "stdout"
        }
      ]
    },
    {
      "cell_type": "markdown",
      "metadata": {
        "id": "yUTDZUN38vnP"
      },
      "source": [
        "Model Architecture"
      ]
    },
    {
      "cell_type": "markdown",
      "metadata": {
        "id": "rrjiFOAX8--5"
      },
      "source": [
        "The architecture of MobileNetV2 contains the initial fully convolution layer with 32 filters, followed by 19 residual bottleneck layers. The researchers have tailored the architecture to different performance points, by using the input image resolution and width multiplier as tunable hyperparameters, that can be adjusted depending on desired accuracy or performance trade-offs. The primary network  (width multiplier 1, 224 × 224), has a computational cost of 300 million multiply-adds and uses 3.4 million parameters. The network computational cost ranges from 7 multiply-adds to 585M MAdds, while the model size varies between 1.7M and 6.9M parameters."
      ]
    },
    {
      "cell_type": "markdown",
      "metadata": {
        "id": "f9t-jP_39YaF"
      },
      "source": [
        "# Model built using transfer learning\n"
      ]
    },
    {
      "cell_type": "code",
      "metadata": {
        "id": "1AMZOwMLjacv"
      },
      "source": [
        "# MobileNet is designed to work with images of dim 224,224\n",
        "img_rows, img_cols = 224,224\n",
        "MobileNet = MobileNetV2(weights='imagenet',include_top=False,input_shape=(img_rows,img_cols,3))"
      ],
      "execution_count": null,
      "outputs": []
    },
    {
      "cell_type": "code",
      "metadata": {
        "id": "lIgy47sAmA54"
      },
      "source": [
        "for layer in MobileNet.layers:\n",
        "    layer.trainable = False"
      ],
      "execution_count": null,
      "outputs": []
    },
    {
      "cell_type": "code",
      "metadata": {
        "colab": {
          "base_uri": "https://localhost:8080/"
        },
        "id": "zbUkVkb_mBCR",
        "outputId": "fe9a067e-fc82-4d5c-8486-e496767ee9b3"
      },
      "source": [
        "model = Sequential()\n",
        "model.add(MobileNet)\n",
        "model.add(GlobalAveragePooling2D())\n",
        "model.add(Dense(256, activation= 'relu'))\n",
        "model.add(Dropout(0.5))\n",
        "model.add(Dense(32,activation='relu'))\n",
        "model.add(Dropout(0.5))\n",
        "model.add(Dense(32,activation='relu'))\n",
        "model.add(Dropout(0.5))\n",
        "model.add(Dense(2,activation='softmax'))\n",
        "model.summary()"
      ],
      "execution_count": null,
      "outputs": [
        {
          "output_type": "stream",
          "text": [
            "Model: \"sequential_21\"\n",
            "_________________________________________________________________\n",
            "Layer (type)                 Output Shape              Param #   \n",
            "=================================================================\n",
            "mobilenetv2_1.00_224 (Functi (None, 7, 7, 1280)        2257984   \n",
            "_________________________________________________________________\n",
            "global_average_pooling2d_21  (None, 1280)              0         \n",
            "_________________________________________________________________\n",
            "dense_86 (Dense)             (None, 256)               327936    \n",
            "_________________________________________________________________\n",
            "dropout_56 (Dropout)         (None, 256)               0         \n",
            "_________________________________________________________________\n",
            "dense_87 (Dense)             (None, 32)                8224      \n",
            "_________________________________________________________________\n",
            "dropout_57 (Dropout)         (None, 32)                0         \n",
            "_________________________________________________________________\n",
            "dense_88 (Dense)             (None, 32)                1056      \n",
            "_________________________________________________________________\n",
            "dropout_58 (Dropout)         (None, 32)                0         \n",
            "_________________________________________________________________\n",
            "dense_89 (Dense)             (None, 2)                 66        \n",
            "=================================================================\n",
            "Total params: 2,595,266\n",
            "Trainable params: 337,282\n",
            "Non-trainable params: 2,257,984\n",
            "_________________________________________________________________\n"
          ],
          "name": "stdout"
        }
      ]
    },
    {
      "cell_type": "code",
      "metadata": {
        "id": "ZfnylxjRmBMf"
      },
      "source": [
        "model.save(\"chest.h5\")"
      ],
      "execution_count": null,
      "outputs": []
    },
    {
      "cell_type": "code",
      "metadata": {
        "id": "_PUt5iR2mBUV"
      },
      "source": [
        "checkpoint = ModelCheckpoint('chest.h5',\n",
        "                             monitor='val_loss',\n",
        "                             mode='min',\n",
        "                             save_best_only=True,\n",
        "                             verbose=1)\n",
        "\n",
        "earlystop = EarlyStopping(monitor='val_loss',\n",
        "                          min_delta=0,\n",
        "                          patience=10,\n",
        "                          verbose=1,restore_best_weights=True)\n",
        "\n",
        "learning_rate_reduction = ReduceLROnPlateau(monitor='val_accuracy', \n",
        "                                            patience=5, \n",
        "                                            verbose=1, \n",
        "                                            factor=0.2, \n",
        "                                            min_lr=0.0001)\n",
        "callbacks = [earlystop,checkpoint,learning_rate_reduction]"
      ],
      "execution_count": null,
      "outputs": []
    },
    {
      "cell_type": "code",
      "metadata": {
        "id": "G0-xXSCTmBaL"
      },
      "source": [
        "model.compile(loss='categorical_crossentropy',\n",
        "              optimizer=Adam(lr=0.001),\n",
        "              metrics=['accuracy'])"
      ],
      "execution_count": null,
      "outputs": []
    },
    {
      "cell_type": "code",
      "metadata": {
        "colab": {
          "base_uri": "https://localhost:8080/"
        },
        "id": "WlI7dTH9mBgy",
        "outputId": "a6bf7f56-fbc8-4e0d-f911-a62d8f376268"
      },
      "source": [
        "epochs =10\n",
        "batch_size =20\n",
        "\n",
        "history = model.fit(\n",
        "            train_dataset,\n",
        "            steps_per_epoch=35,\n",
        "            epochs=epochs,\n",
        "            callbacks=callbacks,\n",
        "            validation_data=validation_dataset \n",
        "            )"
      ],
      "execution_count": null,
      "outputs": [
        {
          "output_type": "stream",
          "text": [
            "Epoch 1/10\n",
            "35/35 [==============================] - 10s 215ms/step - loss: 0.8557 - accuracy: 0.6628 - val_loss: 0.5237 - val_accuracy: 0.5000\n",
            "\n",
            "Epoch 00001: val_loss improved from inf to 0.52373, saving model to chest.h5\n",
            "Epoch 2/10\n",
            "35/35 [==============================] - 7s 189ms/step - loss: 0.4939 - accuracy: 0.7310 - val_loss: 0.5277 - val_accuracy: 0.5000\n",
            "\n",
            "Epoch 00002: val_loss did not improve from 0.52373\n",
            "Epoch 3/10\n",
            "35/35 [==============================] - 7s 193ms/step - loss: 0.4425 - accuracy: 0.7764 - val_loss: 0.4844 - val_accuracy: 0.5625\n",
            "\n",
            "Epoch 00003: val_loss improved from 0.52373 to 0.48439, saving model to chest.h5\n",
            "Epoch 4/10\n",
            "35/35 [==============================] - 6s 184ms/step - loss: 0.3385 - accuracy: 0.8279 - val_loss: 0.3759 - val_accuracy: 0.8750\n",
            "\n",
            "Epoch 00004: val_loss improved from 0.48439 to 0.37594, saving model to chest.h5\n",
            "Epoch 5/10\n",
            "35/35 [==============================] - 7s 187ms/step - loss: 0.3061 - accuracy: 0.8482 - val_loss: 0.4829 - val_accuracy: 0.7500\n",
            "\n",
            "Epoch 00005: val_loss did not improve from 0.37594\n",
            "Epoch 6/10\n",
            "35/35 [==============================] - 7s 199ms/step - loss: 0.2767 - accuracy: 0.8752 - val_loss: 0.5673 - val_accuracy: 0.6875\n",
            "\n",
            "Epoch 00006: val_loss did not improve from 0.37594\n",
            "Epoch 7/10\n",
            "35/35 [==============================] - 7s 194ms/step - loss: 0.2110 - accuracy: 0.9313 - val_loss: 0.3332 - val_accuracy: 0.9375\n",
            "\n",
            "Epoch 00007: val_loss improved from 0.37594 to 0.33316, saving model to chest.h5\n",
            "Epoch 8/10\n",
            "35/35 [==============================] - 7s 193ms/step - loss: 0.2053 - accuracy: 0.9236 - val_loss: 0.5092 - val_accuracy: 0.7500\n",
            "\n",
            "Epoch 00008: val_loss did not improve from 0.33316\n",
            "Epoch 9/10\n",
            "35/35 [==============================] - 6s 181ms/step - loss: 0.2389 - accuracy: 0.9020 - val_loss: 0.8735 - val_accuracy: 0.6250\n",
            "\n",
            "Epoch 00009: val_loss did not improve from 0.33316\n",
            "Epoch 10/10\n",
            "35/35 [==============================] - 7s 190ms/step - loss: 0.2557 - accuracy: 0.9122 - val_loss: 0.5505 - val_accuracy: 0.7500\n",
            "\n",
            "Epoch 00010: val_loss did not improve from 0.33316\n"
          ],
          "name": "stdout"
        }
      ]
    },
    {
      "cell_type": "code",
      "metadata": {
        "id": "vkYnXoDD4a4i"
      },
      "source": [
        "label={0:'NORMAL',1:'PNEUMONIA'}\n"
      ],
      "execution_count": null,
      "outputs": []
    },
    {
      "cell_type": "code",
      "metadata": {
        "id": "mjlpa-t5TWmF"
      },
      "source": [
        "model.save(\"chest.h5\")"
      ],
      "execution_count": null,
      "outputs": []
    },
    {
      "cell_type": "markdown",
      "metadata": {
        "id": "JLRZOFLppiNW"
      },
      "source": [
        "Evaluate model"
      ]
    },
    {
      "cell_type": "code",
      "metadata": {
        "id": "iqk7-NYFpi6N",
        "colab": {
          "base_uri": "https://localhost:8080/"
        },
        "outputId": "bd7b532e-4291-4f12-cf57-55673cc02728"
      },
      "source": [
        "model.evaluate(test_dataset)"
      ],
      "execution_count": null,
      "outputs": [
        {
          "output_type": "stream",
          "text": [
            "39/39 [==============================] - 6s 159ms/step - loss: 0.5622 - accuracy: 0.8221\n"
          ],
          "name": "stdout"
        },
        {
          "output_type": "execute_result",
          "data": {
            "text/plain": [
              "[0.5621963739395142, 0.8221153616905212]"
            ]
          },
          "metadata": {
            "tags": []
          },
          "execution_count": 726
        }
      ]
    },
    {
      "cell_type": "code",
      "metadata": {
        "id": "j9BGYCZ_plk2"
      },
      "source": [
        "model=load_model(\"chest.h5\")"
      ],
      "execution_count": null,
      "outputs": []
    },
    {
      "cell_type": "markdown",
      "metadata": {
        "id": "6tNSjwJ-sU22"
      },
      "source": [
        "IMAGE-3(xray) prediction"
      ]
    },
    {
      "cell_type": "code",
      "metadata": {
        "id": "Yrn180LGsegF",
        "colab": {
          "base_uri": "https://localhost:8080/"
        },
        "outputId": "fc189ab8-9a7a-4144-e5db-f777f871b448"
      },
      "source": [
        "i3=cv2.imread(\"/content/image.jpg\",0)\n",
        "i3.shape"
      ],
      "execution_count": null,
      "outputs": [
        {
          "output_type": "execute_result",
          "data": {
            "text/plain": [
              "(209, 241)"
            ]
          },
          "metadata": {
            "tags": []
          },
          "execution_count": 738
        }
      ]
    },
    {
      "cell_type": "code",
      "metadata": {
        "id": "nXhGLhm-sqdn",
        "colab": {
          "base_uri": "https://localhost:8080/",
          "height": 286
        },
        "outputId": "c3fd3fb5-85d0-49bf-fea3-4d450ce52415"
      },
      "source": [
        "plt.imshow(i3,cmap='gray')"
      ],
      "execution_count": null,
      "outputs": [
        {
          "output_type": "execute_result",
          "data": {
            "text/plain": [
              "<matplotlib.image.AxesImage at 0x7f744661f650>"
            ]
          },
          "metadata": {
            "tags": []
          },
          "execution_count": 739
        },
        {
          "output_type": "display_data",
          "data": {
            "image/png": "[encoded data removed]",
            "text/plain": [
              "<Figure size 432x288 with 1 Axes>"
            ]
          },
          "metadata": {
            "tags": [],
            "needs_background": "light"
          }
        }
      ]
    },
    {
      "cell_type": "code",
      "metadata": {
        "id": "TdayYcvvssdn",
        "colab": {
          "base_uri": "https://localhost:8080/"
        },
        "outputId": "0785c7c0-9b45-4129-f27b-c07c24db5796"
      },
      "source": [
        "imagec=np.resize(i3,new_shape=(224,224,3))\n",
        "image3 = imagec.reshape(1,224,224,3)\n",
        "image3.shape"
      ],
      "execution_count": null,
      "outputs": [
        {
          "output_type": "execute_result",
          "data": {
            "text/plain": [
              "(1, 224, 224, 3)"
            ]
          },
          "metadata": {
            "tags": []
          },
          "execution_count": 740
        }
      ]
    },
    {
      "cell_type": "code",
      "metadata": {
        "id": "2yjK87VxsvmY",
        "colab": {
          "base_uri": "https://localhost:8080/",
          "height": 89
        },
        "outputId": "619ecc6f-6458-46b4-a7ca-2a9b7f91f7db"
      },
      "source": [
        "label[model.predict_classes(image3)[0]]"
      ],
      "execution_count": null,
      "outputs": [
        {
          "output_type": "stream",
          "text": [
            "/usr/local/lib/python3.7/dist-packages/tensorflow/python/keras/engine/sequential.py:450: UserWarning: `model.predict_classes()` is deprecated and will be removed after 2021-01-01. Please use instead:* `np.argmax(model.predict(x), axis=-1)`,   if your model does multi-class classification   (e.g. if it uses a `softmax` last-layer activation).* `(model.predict(x) > 0.5).astype(\"int32\")`,   if your model does binary classification   (e.g. if it uses a `sigmoid` last-layer activation).\n",
            "  warnings.warn('`model.predict_classes()` is deprecated and '\n"
          ],
          "name": "stderr"
        },
        {
          "output_type": "execute_result",
          "data": {
            "application/vnd.google.colaboratory.intrinsic+json": {
              "type": "string"
            },
            "text/plain": [
              "'PNEUMONIA'"
            ]
          },
          "metadata": {
            "tags": []
          },
          "execution_count": 741
        }
      ]
    },
    {
      "cell_type": "markdown",
      "metadata": {
        "id": "MSkkZRsvs4MY"
      },
      "source": [
        "IMAGE-4(xray) prediction"
      ]
    },
    {
      "cell_type": "code",
      "metadata": {
        "id": "HIPF0ZaJs9ot",
        "colab": {
          "base_uri": "https://localhost:8080/"
        },
        "outputId": "90fcb8b9-61de-4726-baf8-67e67fa8ecc0"
      },
      "source": [
        "i4=cv2.imread(\"np4.jpg\",0)\n",
        "i3.shape"
      ],
      "execution_count": null,
      "outputs": [
        {
          "output_type": "execute_result",
          "data": {
            "text/plain": [
              "(209, 241)"
            ]
          },
          "metadata": {
            "tags": []
          },
          "execution_count": 742
        }
      ]
    },
    {
      "cell_type": "code",
      "metadata": {
        "id": "qtERpZtdtByc",
        "colab": {
          "base_uri": "https://localhost:8080/",
          "height": 286
        },
        "outputId": "8e2c6121-98ab-4fc6-b60a-457fd93f4c79"
      },
      "source": [
        "plt.imshow(i4,cmap='gray')"
      ],
      "execution_count": null,
      "outputs": [
        {
          "output_type": "execute_result",
          "data": {
            "text/plain": [
              "<matplotlib.image.AxesImage at 0x7f74bc40cdd0>"
            ]
          },
          "metadata": {
            "tags": []
          },
          "execution_count": 743
        },
        {
          "output_type": "display_data",
          "data": {
            "image/png": "[encoded data removed]",
            "text/plain": [
              "<Figure size 432x288 with 1 Axes>"
            ]
          },
          "metadata": {
            "tags": [],
            "needs_background": "light"
          }
        }
      ]
    },
    {
      "cell_type": "code",
      "metadata": {
        "id": "mCyaPUsltD0N",
        "colab": {
          "base_uri": "https://localhost:8080/"
        },
        "outputId": "4e891371-e522-4c69-b359-576dcf7ab76b"
      },
      "source": [
        "imaged=np.resize(i4,new_shape=(224,224,3))\n",
        "image4 = imaged.reshape(1,224,224,3)\n",
        "image4.shape"
      ],
      "execution_count": null,
      "outputs": [
        {
          "output_type": "execute_result",
          "data": {
            "text/plain": [
              "(1, 224, 224, 3)"
            ]
          },
          "metadata": {
            "tags": []
          },
          "execution_count": 744
        }
      ]
    },
    {
      "cell_type": "code",
      "metadata": {
        "id": "7vG4hCubtGTj",
        "colab": {
          "base_uri": "https://localhost:8080/",
          "height": 89
        },
        "outputId": "feebbd69-bb46-493c-a8cd-a3a2ac537300"
      },
      "source": [
        "label[model.predict_classes(image4)[0]]"
      ],
      "execution_count": null,
      "outputs": [
        {
          "output_type": "stream",
          "text": [
            "/usr/local/lib/python3.7/dist-packages/tensorflow/python/keras/engine/sequential.py:450: UserWarning: `model.predict_classes()` is deprecated and will be removed after 2021-01-01. Please use instead:* `np.argmax(model.predict(x), axis=-1)`,   if your model does multi-class classification   (e.g. if it uses a `softmax` last-layer activation).* `(model.predict(x) > 0.5).astype(\"int32\")`,   if your model does binary classification   (e.g. if it uses a `sigmoid` last-layer activation).\n",
            "  warnings.warn('`model.predict_classes()` is deprecated and '\n"
          ],
          "name": "stderr"
        },
        {
          "output_type": "execute_result",
          "data": {
            "application/vnd.google.colaboratory.intrinsic+json": {
              "type": "string"
            },
            "text/plain": [
              "'PNEUMONIA'"
            ]
          },
          "metadata": {
            "tags": []
          },
          "execution_count": 745
        }
      ]
    },
    {
      "cell_type": "code",
      "metadata": {
        "id": "tMJkEW22B0Dc"
      },
      "source": [
        ""
      ],
      "execution_count": null,
      "outputs": []
    }
  ]
}